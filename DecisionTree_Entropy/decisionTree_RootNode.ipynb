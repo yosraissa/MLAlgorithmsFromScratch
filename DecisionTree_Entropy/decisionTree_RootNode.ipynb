{
 "cells": [
  {
   "cell_type": "code",
   "execution_count": 1,
   "id": "d20ed787-63da-4d46-b2c8-80b528dd0c2c",
   "metadata": {
    "tags": []
   },
   "outputs": [],
   "source": [
    "import pandas as pd "
   ]
  },
  {
   "cell_type": "code",
   "execution_count": 2,
   "id": "b599fb6c-926f-4646-a6ed-f7a1f1d4f19f",
   "metadata": {
    "tags": []
   },
   "outputs": [],
   "source": [
    "import numpy as np"
   ]
  },
  {
   "cell_type": "code",
   "execution_count": 3,
   "id": "9eba2a8e-4c84-4420-aea7-f3e1c03bd0ab",
   "metadata": {
    "tags": []
   },
   "outputs": [],
   "source": [
    "data = pd.read_csv(\"./PlayTennis_.csv\", )"
   ]
  },
  {
   "cell_type": "code",
   "execution_count": 4,
   "id": "b3d1ceee-040e-4490-92d8-2ebf8ca2935d",
   "metadata": {
    "tags": []
   },
   "outputs": [],
   "source": [
    "data.drop('Day', axis=1, inplace=True)"
   ]
  },
  {
   "cell_type": "code",
   "execution_count": 5,
   "id": "19fa9807-fc6d-42ef-b36f-cd44b2636b20",
   "metadata": {
    "tags": []
   },
   "outputs": [
    {
     "data": {
      "text/html": [
       "<div>\n",
       "<style scoped>\n",
       "    .dataframe tbody tr th:only-of-type {\n",
       "        vertical-align: middle;\n",
       "    }\n",
       "\n",
       "    .dataframe tbody tr th {\n",
       "        vertical-align: top;\n",
       "    }\n",
       "\n",
       "    .dataframe thead th {\n",
       "        text-align: right;\n",
       "    }\n",
       "</style>\n",
       "<table border=\"1\" class=\"dataframe\">\n",
       "  <thead>\n",
       "    <tr style=\"text-align: right;\">\n",
       "      <th></th>\n",
       "      <th>Outlook</th>\n",
       "      <th>Temperature</th>\n",
       "      <th>Humidity</th>\n",
       "      <th>Wind</th>\n",
       "      <th>Playtennis</th>\n",
       "    </tr>\n",
       "  </thead>\n",
       "  <tbody>\n",
       "    <tr>\n",
       "      <th>0</th>\n",
       "      <td>Sunny</td>\n",
       "      <td>Hot</td>\n",
       "      <td>High</td>\n",
       "      <td>Weak</td>\n",
       "      <td>No</td>\n",
       "    </tr>\n",
       "    <tr>\n",
       "      <th>1</th>\n",
       "      <td>Sunny</td>\n",
       "      <td>Hot</td>\n",
       "      <td>High</td>\n",
       "      <td>Strong</td>\n",
       "      <td>No</td>\n",
       "    </tr>\n",
       "    <tr>\n",
       "      <th>2</th>\n",
       "      <td>Overcast</td>\n",
       "      <td>Hot</td>\n",
       "      <td>High</td>\n",
       "      <td>Weak</td>\n",
       "      <td>Yes</td>\n",
       "    </tr>\n",
       "    <tr>\n",
       "      <th>3</th>\n",
       "      <td>Rain</td>\n",
       "      <td>Mild</td>\n",
       "      <td>High</td>\n",
       "      <td>Weak</td>\n",
       "      <td>Yes</td>\n",
       "    </tr>\n",
       "    <tr>\n",
       "      <th>4</th>\n",
       "      <td>Rain</td>\n",
       "      <td>Cool</td>\n",
       "      <td>Normal</td>\n",
       "      <td>Weak</td>\n",
       "      <td>Yes</td>\n",
       "    </tr>\n",
       "  </tbody>\n",
       "</table>\n",
       "</div>"
      ],
      "text/plain": [
       "    Outlook Temperature Humidity    Wind Playtennis\n",
       "0     Sunny         Hot     High    Weak         No\n",
       "1     Sunny         Hot     High  Strong         No\n",
       "2  Overcast         Hot     High    Weak        Yes\n",
       "3      Rain        Mild     High    Weak        Yes\n",
       "4      Rain        Cool   Normal    Weak        Yes"
      ]
     },
     "execution_count": 5,
     "metadata": {},
     "output_type": "execute_result"
    }
   ],
   "source": [
    "data.head()"
   ]
  },
  {
   "cell_type": "code",
   "execution_count": 6,
   "id": "1d19b1df-f20c-4c71-a39e-7dd73deb78ca",
   "metadata": {
    "tags": []
   },
   "outputs": [],
   "source": [
    "rows = data.shape[0]"
   ]
  },
  {
   "cell_type": "code",
   "execution_count": 7,
   "id": "f5aef0b5-0122-46ec-a14f-360b3c52d620",
   "metadata": {
    "tags": []
   },
   "outputs": [],
   "source": [
    "def getEntropyGlobal(d, y):\n",
    "    daf = d.groupby([y]).size().reset_index(name='S')\n",
    "    S_Entropy_df = daf.pivot_table( columns = y, values = \"S\",fill_value = 0)\n",
    "    S_Entropy_df['total'] = S_Entropy_df['No'] + S_Entropy_df['Yes']\n",
    "    epsilon = 1e-9\n",
    "    S_Entropy_df['entropy'] = (-(\n",
    "        (S_Entropy_df['Yes']+epsilon)/(S_Entropy_df['total']+2*epsilon)*np.log2((S_Entropy_df['Yes']+epsilon)/(S_Entropy_df['total']+2*epsilon)) \n",
    "        + \n",
    "        (S_Entropy_df['No']+epsilon)/(S_Entropy_df['total']+2*epsilon)*np.log2((S_Entropy_df['No']+epsilon)/(S_Entropy_df['total']+2*epsilon))\n",
    "    )).round(4)\n",
    "    return S_Entropy_df"
   ]
  },
  {
   "cell_type": "code",
   "execution_count": 8,
   "id": "b1943656-b8d8-499e-80fe-20669222597c",
   "metadata": {
    "tags": []
   },
   "outputs": [],
   "source": [
    "def get_S_Entropy_Gain(dataframe, x, y, es):\n",
    "    d = dataframe[[x,y]]\n",
    "    rows = d.shape[0]\n",
    "    daf = d.groupby([x,y]).size().reset_index(name='S')\n",
    "    S_Entropy_df = daf.pivot_table(index = x, columns = y, values = \"S\",fill_value = 0)\n",
    "    S_Entropy_df['total'] = S_Entropy_df['No'] + S_Entropy_df['Yes']    \n",
    "    epsilon = 1e-9\n",
    "    S_Entropy_df['entropy'] = (-(\n",
    "        (S_Entropy_df['Yes']+epsilon)/(S_Entropy_df['total']+2*epsilon)*np.log2((S_Entropy_df['Yes']+epsilon)/(S_Entropy_df['total']+2*epsilon)) \n",
    "        + \n",
    "        (S_Entropy_df['No']+epsilon)/(S_Entropy_df['total']+2*epsilon)*np.log2((S_Entropy_df['No']+epsilon)/(S_Entropy_df['total']+2*epsilon))\n",
    "    ))\n",
    "    S_Entropy_df['gain_1'] = (\n",
    "        (S_Entropy_df['total'] / rows) * S_Entropy_df['entropy']\n",
    "    )\n",
    "    gain = (es['entropy'] - S_Entropy_df['gain_1'].sum()).rename(x)\n",
    "    print(S_Entropy_df)\n",
    "    return gain, S_Entropy_df"
   ]
  },
  {
   "cell_type": "code",
   "execution_count": 9,
   "id": "321ea63c-4fec-424c-8a21-f3ec0d333a3a",
   "metadata": {},
   "outputs": [
    {
     "name": "stdout",
     "output_type": "stream",
     "text": [
      "S :  Playtennis  No  Yes  total  entropy\n",
      "S            5    9     14   0.9403\n",
      "Playtennis  No  Yes  total       entropy        gain_1\n",
      "Outlook                                               \n",
      "Overcast     0    4      4  8.335012e-09  2.381432e-09\n",
      "Rain         2    3      5  9.709506e-01  3.467681e-01\n",
      "Sunny        3    2      5  9.709506e-01  3.467681e-01\n",
      "Playtennis   No  Yes  total   entropy    gain_1\n",
      "Temperature                                    \n",
      "Cool          1    3      4  0.811278  0.231794\n",
      "Hot           2    2      4  1.000000  0.285714\n",
      "Mild          2    4      6  0.918296  0.393555\n",
      "Playtennis  No  Yes  total   entropy    gain_1\n",
      "Humidity                                      \n",
      "High         4    3      7  0.985228  0.492614\n",
      "Normal       1    6      7  0.591673  0.295836\n",
      "Playtennis  No  Yes  total   entropy    gain_1\n",
      "Wind                                          \n",
      "Strong       3    3      6  1.000000  0.428571\n",
      "Weak         2    6      8  0.811278  0.463587\n",
      "Gain df: \n",
      "           feat      gain\n",
      "0      Outlook  0.246764\n",
      "1  Temperature  0.029237\n",
      "2     Humidity  0.151850\n",
      "3         Wind  0.048141\n"
     ]
    },
    {
     "data": {
      "text/plain": [
       "'Outlook'"
      ]
     },
     "execution_count": 9,
     "metadata": {},
     "output_type": "execute_result"
    }
   ],
   "source": [
    "def find_Node(data):\n",
    "    y = data.columns[-1]\n",
    "    x = data.columns[:-1]\n",
    "    es = getEntropyGlobal(data, y)\n",
    "    print('S : ', es)\n",
    "    dicti = {'feat': [], 'gain':[]}\n",
    "    for elem in x:\n",
    "        j, k = get_S_Entropy_Gain(data, elem, y, es)\n",
    "        dicti['feat'].append(j.name)\n",
    "        dicti['gain'].append(j[0])\n",
    "    # print(dicti)\n",
    "    df = pd.DataFrame(dicti) \n",
    "    print('Gain df: \\n',df)\n",
    "    return df.iloc[df['gain'].idxmax()]['feat']\n",
    "\n",
    "first_Node = find_Node(data)\n",
    "first_Node"
   ]
  },
  {
   "cell_type": "code",
   "execution_count": null,
   "id": "aff33d68-0f89-4e5c-933d-b5cd0c408b80",
   "metadata": {},
   "outputs": [],
   "source": []
  }
 ],
 "metadata": {
  "kernelspec": {
   "display_name": "Python 3 (ipykernel)",
   "language": "python",
   "name": "python3"
  },
  "language_info": {
   "codemirror_mode": {
    "name": "ipython",
    "version": 3
   },
   "file_extension": ".py",
   "mimetype": "text/x-python",
   "name": "python",
   "nbconvert_exporter": "python",
   "pygments_lexer": "ipython3",
   "version": "3.11.3"
  }
 },
 "nbformat": 4,
 "nbformat_minor": 5
}
