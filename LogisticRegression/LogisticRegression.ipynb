{
 "cells": [
  {
   "cell_type": "code",
   "execution_count": 3,
   "id": "latin-train",
   "metadata": {},
   "outputs": [],
   "source": [
    "import numpy as np\n",
    "import pandas as pd\n",
    "import matplotlib.pyplot as plt"
   ]
  },
  {
   "cell_type": "code",
   "execution_count": 4,
   "id": "negative-lesson",
   "metadata": {},
   "outputs": [],
   "source": [
    "data = pd.read_csv(\"Titanic_data_for logistic_regression.csv\") # import the data"
   ]
  },
  {
   "cell_type": "code",
   "execution_count": 5,
   "id": "limited-borough",
   "metadata": {},
   "outputs": [
    {
     "data": {
      "text/html": [
       "<div>\n",
       "<style scoped>\n",
       "    .dataframe tbody tr th:only-of-type {\n",
       "        vertical-align: middle;\n",
       "    }\n",
       "\n",
       "    .dataframe tbody tr th {\n",
       "        vertical-align: top;\n",
       "    }\n",
       "\n",
       "    .dataframe thead th {\n",
       "        text-align: right;\n",
       "    }\n",
       "</style>\n",
       "<table border=\"1\" class=\"dataframe\">\n",
       "  <thead>\n",
       "    <tr style=\"text-align: right;\">\n",
       "      <th></th>\n",
       "      <th>Id</th>\n",
       "      <th>Pclass</th>\n",
       "      <th>Sex</th>\n",
       "      <th>Age</th>\n",
       "      <th>SibSp</th>\n",
       "      <th>Parch</th>\n",
       "      <th>Fare</th>\n",
       "      <th>Embarked</th>\n",
       "      <th>Survived</th>\n",
       "    </tr>\n",
       "  </thead>\n",
       "  <tbody>\n",
       "    <tr>\n",
       "      <th>0</th>\n",
       "      <td>0</td>\n",
       "      <td>3</td>\n",
       "      <td>0</td>\n",
       "      <td>22.0</td>\n",
       "      <td>1</td>\n",
       "      <td>0</td>\n",
       "      <td>7.2500</td>\n",
       "      <td>1</td>\n",
       "      <td>0</td>\n",
       "    </tr>\n",
       "    <tr>\n",
       "      <th>1</th>\n",
       "      <td>1</td>\n",
       "      <td>1</td>\n",
       "      <td>1</td>\n",
       "      <td>38.0</td>\n",
       "      <td>1</td>\n",
       "      <td>0</td>\n",
       "      <td>71.2833</td>\n",
       "      <td>0</td>\n",
       "      <td>1</td>\n",
       "    </tr>\n",
       "    <tr>\n",
       "      <th>2</th>\n",
       "      <td>2</td>\n",
       "      <td>3</td>\n",
       "      <td>1</td>\n",
       "      <td>26.0</td>\n",
       "      <td>0</td>\n",
       "      <td>0</td>\n",
       "      <td>7.9250</td>\n",
       "      <td>1</td>\n",
       "      <td>1</td>\n",
       "    </tr>\n",
       "    <tr>\n",
       "      <th>3</th>\n",
       "      <td>3</td>\n",
       "      <td>1</td>\n",
       "      <td>1</td>\n",
       "      <td>35.0</td>\n",
       "      <td>1</td>\n",
       "      <td>0</td>\n",
       "      <td>53.1000</td>\n",
       "      <td>1</td>\n",
       "      <td>1</td>\n",
       "    </tr>\n",
       "    <tr>\n",
       "      <th>4</th>\n",
       "      <td>4</td>\n",
       "      <td>3</td>\n",
       "      <td>0</td>\n",
       "      <td>35.0</td>\n",
       "      <td>0</td>\n",
       "      <td>0</td>\n",
       "      <td>8.0500</td>\n",
       "      <td>1</td>\n",
       "      <td>0</td>\n",
       "    </tr>\n",
       "  </tbody>\n",
       "</table>\n",
       "</div>"
      ],
      "text/plain": [
       "   Id  Pclass  Sex   Age  SibSp  Parch     Fare  Embarked  Survived\n",
       "0   0       3    0  22.0      1      0   7.2500         1         0\n",
       "1   1       1    1  38.0      1      0  71.2833         0         1\n",
       "2   2       3    1  26.0      0      0   7.9250         1         1\n",
       "3   3       1    1  35.0      1      0  53.1000         1         1\n",
       "4   4       3    0  35.0      0      0   8.0500         1         0"
      ]
     },
     "execution_count": 5,
     "metadata": {},
     "output_type": "execute_result"
    }
   ],
   "source": [
    "data.head() # inspect the data "
   ]
  },
  {
   "cell_type": "code",
   "execution_count": 6,
   "id": "confident-pontiac",
   "metadata": {},
   "outputs": [
    {
     "name": "stdout",
     "output_type": "stream",
     "text": [
      "Shape of X_train :  (891, 7)\n",
      "Shape of Y_train :  (891,)\n",
      "Shape of X_test :  (418, 7)\n",
      "Shape of Y_test :  (418,)\n"
     ]
    }
   ],
   "source": [
    "# data pre-processing step\n",
    "df = data.drop(\"Id\", axis = 1)\n",
    "# split data to training and testing data\n",
    "df_train = df.iloc[:891]\n",
    "df_test = df.iloc[891:]\n",
    "# extract features (X) and target (Y) and convert to numpy arrays\n",
    "X_train = df_train.iloc[:, :-1].values  # All rows, all columns except the last column (target)\n",
    "Y_train = df_train['Survived'].values\n",
    "X_test = df_test.iloc[:, :-1].values  # All rows, all columns except the last column (target)\n",
    "Y_test = df_test['Survived'].values\n",
    "# print all shapes\n",
    "print(\"Shape of X_train : \", X_train.shape)\n",
    "print(\"Shape of Y_train : \", Y_train.shape)\n",
    "print(\"Shape of X_test : \", X_test.shape)\n",
    "print(\"Shape of Y_test : \", Y_test.shape)"
   ]
  },
  {
   "cell_type": "code",
   "execution_count": 7,
   "id": "inside-addition",
   "metadata": {},
   "outputs": [
    {
     "name": "stdout",
     "output_type": "stream",
     "text": [
      "Shape of X_train :  (7, 891)\n",
      "Shape of Y_train :  (1, 891)\n",
      "Shape of X_test :  (7, 418)\n",
      "Shape of Y_test :  (1, 418)\n"
     ]
    }
   ],
   "source": [
    "# reshape matrices\n",
    "X_train = X_train.T\n",
    "Y_train = Y_train.reshape(1, X_train.shape[1])\n",
    "\n",
    "X_test = X_test.T\n",
    "Y_test = Y_test.reshape(1, X_test.shape[1])\n",
    "\n",
    "# print new shapes\n",
    "print(\"Shape of X_train : \", X_train.shape)\n",
    "print(\"Shape of Y_train : \", Y_train.shape)\n",
    "print(\"Shape of X_test : \", X_test.shape)\n",
    "print(\"Shape of Y_test : \", Y_test.shape)"
   ]
  },
  {
   "cell_type": "code",
   "execution_count": 8,
   "id": "removed-nomination",
   "metadata": {},
   "outputs": [],
   "source": [
    "def sigmoid(x):\n",
    "    return 1/(1 + np.exp(-x))"
   ]
  },
  {
   "cell_type": "code",
   "execution_count": 9,
   "id": "aquatic-berry",
   "metadata": {},
   "outputs": [],
   "source": [
    "# Model\n",
    "def LinearRegressionModel(X, Y, learning_rate, iterations):\n",
    "    # number of features and rows\n",
    "    m = X_train.shape[1] # features\n",
    "    n = X_train.shape[0] # rows\n",
    "    # initiation of all weights to 0 \n",
    "    W = np.zeros((n,1)) # matrix of weights\n",
    "    B = 0 \n",
    "    \n",
    "    cost_list = [] # to calculate and keep track of cost\n",
    "    \n",
    "    for i in range(iterations):\n",
    "        \n",
    "        Z = np.dot(W.T, X) + B # Z: matrix of X * W\n",
    "        A = sigmoid(Z) # A: matrix; apply sigmoid to Z\n",
    "        \n",
    "        # cost function for linear regression\n",
    "        cost = -(1/m)*np.sum( Y*np.log(A) + (1-Y)*np.log(1-A))\n",
    "        \n",
    "        # Gradient Descent to minimize cost\n",
    "        dW = (1/m)*np.dot(A-Y, X.T) # matrix of d(cost)/d(w) for all weights\n",
    "        dB = (1/m)*np.sum(A - Y) # = d(cost)/d(b)\n",
    "        \n",
    "        W = W - learning_rate*dW.T # new weights \n",
    "        B = B - learning_rate*dB # new b \n",
    "        \n",
    "        # Keeping track of our cost function value\n",
    "        cost_list.append(cost)\n",
    "        # print evolution of cost by iteration\n",
    "        if(i%(iterations/10) == 0):\n",
    "            print(\"cost after \", i, \"iteration is : \", cost)\n",
    "        \n",
    "    return W, B, cost_list # return matrix of weights, B, and cost\n",
    "        "
   ]
  },
  {
   "cell_type": "code",
   "execution_count": 10,
   "id": "detailed-alert",
   "metadata": {},
   "outputs": [
    {
     "name": "stdout",
     "output_type": "stream",
     "text": [
      "cost after  0 iteration is :  0.6931471805599454\n",
      "cost after  10000 iteration is :  0.49652777693895306\n",
      "cost after  20000 iteration is :  0.46674868550665993\n",
      "cost after  30000 iteration is :  0.45687787762434423\n",
      "cost after  40000 iteration is :  0.45288994293089646\n",
      "cost after  50000 iteration is :  0.45093260252226425\n",
      "cost after  60000 iteration is :  0.4497708749009468\n",
      "cost after  70000 iteration is :  0.4489640829216279\n",
      "cost after  80000 iteration is :  0.4483412696612483\n",
      "cost after  90000 iteration is :  0.4478304524693579\n"
     ]
    }
   ],
   "source": [
    "# apply the model to our data\n",
    "W, B, cost_list = LinearRegressionModel(X_train, Y_train, learning_rate = 0.0015, iterations = 100000)"
   ]
  },
  {
   "cell_type": "code",
   "execution_count": 11,
   "id": "continental-realtor",
   "metadata": {},
   "outputs": [
    {
     "name": "stdout",
     "output_type": "stream",
     "text": [
      "Accuracy of the model is :  91.39 %\n"
     ]
    }
   ],
   "source": [
    "# Testing model accuracy\n",
    "def accuracy(X, Y, W, B):    \n",
    "    Z = np.dot(W.T, X) + B\n",
    "    A = sigmoid(Z)    \n",
    "    A = A > 0.5    \n",
    "    A = np.array(A, dtype = 'int64')    \n",
    "    acc = (1 - np.sum(np.absolute(A - Y))/Y.shape[1])*100    \n",
    "    print(\"Accuracy of the model is : \", round(acc, 2), \"%\")\n",
    "    \n",
    "accuracy(X_test, Y_test, W, B)"
   ]
  },
  {
   "cell_type": "markdown",
   "id": "handed-invite",
   "metadata": {
    "tags": []
   },
   "source": [
    "**Our model accuracy is 91 % on Test dataset. Which is pretty good.**"
   ]
  },
  {
   "cell_type": "code",
   "execution_count": null,
   "id": "1f97b00f-c0ac-4ddb-ab63-4ffe8749f8f4",
   "metadata": {},
   "outputs": [],
   "source": []
  }
 ],
 "metadata": {
  "kernelspec": {
   "display_name": "Python 3 (ipykernel)",
   "language": "python",
   "name": "python3"
  },
  "language_info": {
   "codemirror_mode": {
    "name": "ipython",
    "version": 3
   },
   "file_extension": ".py",
   "mimetype": "text/x-python",
   "name": "python",
   "nbconvert_exporter": "python",
   "pygments_lexer": "ipython3",
   "version": "3.11.3"
  }
 },
 "nbformat": 4,
 "nbformat_minor": 5
}
