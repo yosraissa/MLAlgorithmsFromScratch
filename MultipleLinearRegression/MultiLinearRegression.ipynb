{
 "cells": [
  {
   "cell_type": "code",
   "execution_count": 33,
   "id": "72dc9588-3109-4344-ab61-68e5a40a738c",
   "metadata": {
    "tags": []
   },
   "outputs": [],
   "source": [
    "import numpy as np\n",
    "import pandas as pd \n",
    "import matplotlib.pyplot as plt"
   ]
  },
  {
   "cell_type": "code",
   "execution_count": 34,
   "id": "43ed030c-9192-4872-a9d0-09158a4326fa",
   "metadata": {
    "tags": []
   },
   "outputs": [],
   "source": [
    "# random functions to ease the work :\n",
    "# calcul y_bar\n",
    "def ybar(y):\n",
    "    return y.mean()\n",
    "\n",
    "# Sum of squared errors (SSE)\n",
    "def sse(y_target,y_prediction):\n",
    "    s = 0\n",
    "    for i in range(len(y_target)): \n",
    "        s = s + ((y_target[i] - y_prediction[i])**2)\n",
    "    return s\n",
    "\n",
    "# Sum of residuals (SSr)\n",
    "def ssr(y_bar,y_prediction):\n",
    "    s = 0\n",
    "    for i in range(len(y_prediction)): \n",
    "        s = s + ((y_prediction[i] - y_bar)**2)\n",
    "    return s\n",
    "\n",
    "# Sum of errors (SST)\n",
    "def sst(y_target,y_bar):\n",
    "    s = 0\n",
    "    for i in range(len(y_target)): \n",
    "        s = s + ((y_target[i] - y_bar)**2)\n",
    "    return s\n",
    "\n",
    "# calcule y pred\n",
    "def predictY(re, x):\n",
    "    y_hat = []\n",
    "    for i in range(x.shape[0]):\n",
    "        line = re[0]\n",
    "        for j in range(x.shape[1]):\n",
    "            line = line + (re[j+1]*x[i][j])\n",
    "        y_hat.append(line)\n",
    "    return y_hat\n",
    "\n",
    "# plot gradient descent cost\n",
    "def plot_Cost(history):\n",
    "    plt.plot(history)\n",
    "    plt.xlabel('Iteration')\n",
    "    plt.ylabel('Cost')\n",
    "    plt.title('Gradient Descent - Cost History')\n",
    "    plt.show()\n",
    "\n",
    "# gradient_descent function in case a solution couldn't be found with closed-form method\n",
    "def gradient_descent(X, y, learning_rate=0.01, num_iterations=20000):\n",
    "    num_samples, num_features = X.shape\n",
    "    theta = np.zeros(num_features)\n",
    "    history = np.zeros((num_iterations, 1))\n",
    "    for i in range(num_iterations):\n",
    "        gradient = (1/num_samples) * (X.T.dot(X.dot(theta) - y))\n",
    "        theta = theta - learning_rate * gradient\n",
    "        cost = (1/(2*num_samples)) * np.sum((X.dot(theta) - y)**2)\n",
    "        history[i] = cost\n",
    "    return theta, history\n",
    "\n",
    "# model\n",
    "def MultiLinearRegression(x, y):\n",
    "    # Add intercept term (a column with all ones)\n",
    "    X = np.c_[np.ones(x.shape[0]), x]\n",
    "    try:\n",
    "        # in case you want to force-run the gradient_descent method, uncomment the next line \n",
    "        # fail = 4/0\n",
    "        # Use closed-form solution:\n",
    "        xt = X.T\n",
    "        xt_x = xt.dot(X)\n",
    "        xt_x_1 = np.linalg.inv(xt_x)\n",
    "        xt_x_1_xt = xt_x_1.dot(xt)\n",
    "        res = xt_x_1_xt.dot(y)\n",
    "        print('using closed-form method : ')\n",
    "        return res\n",
    "    except : # Use gradient descent if closed-form solution fails\n",
    "        theta, h = gradient_descent(X, y)\n",
    "        plot_Cost(h) # this function plots the evolution of the cost of the gradient descent\n",
    "        print('using gradient descent method : ')\n",
    "        return theta"
   ]
  },
  {
   "cell_type": "code",
   "execution_count": 35,
   "id": "c7e9ed24-1ad0-4a4c-bf36-3511005754bc",
   "metadata": {
    "tags": []
   },
   "outputs": [
    {
     "name": "stdout",
     "output_type": "stream",
     "text": [
      "   x1  x2   y\n",
      "0   1   4   1\n",
      "1   2   5   6\n",
      "2   3   8   8\n",
      "3   4   2  12\n",
      "x:  [[1 4]\n",
      " [2 5]\n",
      " [3 8]\n",
      " [4 2]]\n",
      "y:  [ 1  6  8 12]\n"
     ]
    }
   ],
   "source": [
    "# importing data \n",
    "df = pd.read_csv('x1x2y_data.csv')\n",
    "print(df)\n",
    "\n",
    "# data separation and preparation \n",
    "X = df[['x1','x2']].to_numpy()\n",
    "Y = df['y'].to_numpy()\n",
    "print('x: ',X); print('y: ',Y);"
   ]
  },
  {
   "cell_type": "code",
   "execution_count": 36,
   "id": "2b452926-9550-4ab3-a5db-525fac1eb977",
   "metadata": {
    "tags": []
   },
   "outputs": [
    {
     "name": "stdout",
     "output_type": "stream",
     "text": [
      "using closed-form method : \n",
      "a:  [-1.69945355  3.48360656 -0.05464481]\n"
     ]
    }
   ],
   "source": [
    "# calling the model to learn\n",
    "result = MultiLinearRegression(X, Y)\n",
    "print('a: ',result)"
   ]
  },
  {
   "cell_type": "raw",
   "id": "0c1ad788-d973-4a3b-b553-a2d0ce65e06b",
   "metadata": {},
   "source": [
    "comparing results i got while trying diffrent values: \n",
    "[ 0.23722911  3.08484216 -0.22335977] 200 iterations gradient descent method\n",
    "[-0.64221843  3.2811117  -0.15375297] 1000 iterations gradient descent method\n",
    "[-1.69831397  3.48338829 -0.05475164] 10000 iterations gradient descent method\n",
    "[-1.69945298  3.48360645 -0.05464486] 20000 iterations gradient descent method\n",
    "[-1.69945355  3.48360656 -0.05464481] closed-form method\n",
    "[-1.70000000  2.29000000 -1.15000000] calcul a la main"
   ]
  },
  {
   "cell_type": "code",
   "execution_count": 47,
   "id": "083bb54d-784e-410d-a22d-dc89fa4a845d",
   "metadata": {},
   "outputs": [
    {
     "name": "stdout",
     "output_type": "stream",
     "text": [
      "[1.5655737704918067, 4.994535519125687, 8.314207650273229, 12.125683060109294]\n",
      "[ 1  6  8 12]\n"
     ]
    }
   ],
   "source": [
    "# calculation of y_predict\n",
    "yhat = predictY(result,X)\n",
    "print(yhat)\n",
    "print(Y)"
   ]
  },
  {
   "cell_type": "code",
   "execution_count": 48,
   "id": "780b1326-7e7b-4dc4-aa8f-c3f6736d8570",
   "metadata": {
    "tags": []
   },
   "outputs": [
    {
     "name": "stdout",
     "output_type": "stream",
     "text": [
      "sse:  1.4453551912568299\n"
     ]
    }
   ],
   "source": [
    "# calculating SSE error :\n",
    "print('sse: ',sse(Y,yhat))"
   ]
  },
  {
   "cell_type": "code",
   "execution_count": 49,
   "id": "f3826a68-ef2c-450a-84f4-13206fdd798c",
   "metadata": {
    "tags": []
   },
   "outputs": [
    {
     "name": "stdout",
     "output_type": "stream",
     "text": [
      "[ 1.56557377  4.99453552  8.31420765 12.12568306]\n",
      "sse:  1.4453551912568303\n"
     ]
    }
   ],
   "source": [
    "# testing with scikit-lea\n",
    "from sklearn.linear_model import LinearRegression\n",
    "model=LinearRegression()\n",
    "model.fit(X,Y)\n",
    "yhat__w_model = model.predict(X)\n",
    "print(yhat__w_model)\n",
    "print('sse: ',sse(Y,yhat__w_model))"
   ]
  },
  {
   "cell_type": "code",
   "execution_count": 50,
   "id": "751c459c-c0aa-42d0-af5b-6ae7ca9215ef",
   "metadata": {
    "tags": []
   },
   "outputs": [],
   "source": [
    "# importing data for second example\n",
    "df2 = pd.read_csv('student_data.csv')"
   ]
  },
  {
   "cell_type": "code",
   "execution_count": 51,
   "id": "c8751e66-758c-475d-94ba-9f635b4eaaaa",
   "metadata": {
    "tags": []
   },
   "outputs": [
    {
     "data": {
      "text/html": [
       "<div>\n",
       "<style scoped>\n",
       "    .dataframe tbody tr th:only-of-type {\n",
       "        vertical-align: middle;\n",
       "    }\n",
       "\n",
       "    .dataframe tbody tr th {\n",
       "        vertical-align: top;\n",
       "    }\n",
       "\n",
       "    .dataframe thead th {\n",
       "        text-align: right;\n",
       "    }\n",
       "</style>\n",
       "<table border=\"1\" class=\"dataframe\">\n",
       "  <thead>\n",
       "    <tr style=\"text-align: right;\">\n",
       "      <th></th>\n",
       "      <th>science_grade</th>\n",
       "      <th>chemistry_grade</th>\n",
       "      <th>hours_studied</th>\n",
       "      <th>y_act</th>\n",
       "    </tr>\n",
       "  </thead>\n",
       "  <tbody>\n",
       "    <tr>\n",
       "      <th>0</th>\n",
       "      <td>60</td>\n",
       "      <td>80</td>\n",
       "      <td>5</td>\n",
       "      <td>82</td>\n",
       "    </tr>\n",
       "    <tr>\n",
       "      <th>1</th>\n",
       "      <td>70</td>\n",
       "      <td>75</td>\n",
       "      <td>7</td>\n",
       "      <td>94</td>\n",
       "    </tr>\n",
       "    <tr>\n",
       "      <th>2</th>\n",
       "      <td>50</td>\n",
       "      <td>55</td>\n",
       "      <td>10</td>\n",
       "      <td>45</td>\n",
       "    </tr>\n",
       "    <tr>\n",
       "      <th>3</th>\n",
       "      <td>40</td>\n",
       "      <td>56</td>\n",
       "      <td>7</td>\n",
       "      <td>43</td>\n",
       "    </tr>\n",
       "  </tbody>\n",
       "</table>\n",
       "</div>"
      ],
      "text/plain": [
       "   science_grade  chemistry_grade  hours_studied  y_act\n",
       "0             60               80              5     82\n",
       "1             70               75              7     94\n",
       "2             50               55             10     45\n",
       "3             40               56              7     43"
      ]
     },
     "execution_count": 51,
     "metadata": {},
     "output_type": "execute_result"
    }
   ],
   "source": [
    "df2.drop('studentNum', axis=1, inplace=True)\n",
    "df2"
   ]
  },
  {
   "cell_type": "code",
   "execution_count": 52,
   "id": "b392dc12-793b-4ec1-9070-feb13c3c34cc",
   "metadata": {},
   "outputs": [
    {
     "name": "stdout",
     "output_type": "stream",
     "text": [
      "x:  [[60 80  5]\n",
      " [70 75  7]\n",
      " [50 55 10]\n",
      " [40 56  7]]\n",
      "y:  [82 94 45 43]\n"
     ]
    }
   ],
   "source": [
    "# data separation and preparation \n",
    "X2 = df2.iloc[:, :-1].to_numpy()\n",
    "print('x: ',X2)\n",
    "Y2 = df2.iloc[:, -1].to_numpy()\n",
    "print('y: ',Y2)"
   ]
  },
  {
   "cell_type": "code",
   "execution_count": 53,
   "id": "93fc0142-1623-4b0c-b4ae-bdeedd7ffe6d",
   "metadata": {
    "tags": []
   },
   "outputs": [
    {
     "name": "stdout",
     "output_type": "stream",
     "text": [
      "using closed-form method : \n",
      "a:  [47.06896552  2.19137931 -0.77586207 -6.89655172]\n"
     ]
    }
   ],
   "source": [
    "# calling the model to learn\n",
    "result2 = MultiLinearRegression(X2, Y2)\n",
    "print('a: ',result2)"
   ]
  },
  {
   "cell_type": "code",
   "execution_count": 54,
   "id": "af96fdca-17bb-4e67-b846-5274d418da2a",
   "metadata": {
    "tags": []
   },
   "outputs": [
    {
     "name": "stdout",
     "output_type": "stream",
     "text": [
      "[81.99999999998641, 93.99999999998727, 44.99999999998474, 42.99999999998439]\n",
      "[82 94 45 43]\n"
     ]
    }
   ],
   "source": [
    "# calculation of y_predict\n",
    "yhat2 = predictY(result2,X2)\n",
    "print(yhat2)\n",
    "print(Y2)"
   ]
  },
  {
   "cell_type": "code",
   "execution_count": 55,
   "id": "fc68741a-08a1-4a3e-a9b9-85a41786fa91",
   "metadata": {
    "tags": []
   },
   "outputs": [
    {
     "name": "stdout",
     "output_type": "stream",
     "text": [
      "sse:  8.2332950720970905e-22\n"
     ]
    }
   ],
   "source": [
    "# calculating SSE error :\n",
    "print('sse: ',sse(Y2,yhat2))"
   ]
  },
  {
   "cell_type": "code",
   "execution_count": 56,
   "id": "f82903dc-f29d-40b0-bc41-d7ca51881046",
   "metadata": {
    "tags": []
   },
   "outputs": [
    {
     "name": "stdout",
     "output_type": "stream",
     "text": [
      "[82. 94. 45. 43.]\n",
      "sse:  2.0194839173657902e-27\n"
     ]
    }
   ],
   "source": [
    "# testing with scikit-lea\n",
    "from sklearn.linear_model import LinearRegression\n",
    "model2=LinearRegression()\n",
    "model2.fit(X2,Y2)\n",
    "yhat__w_model2 = model2.predict(X2)\n",
    "print(yhat__w_model2)\n",
    "print('sse: ',sse(Y2,yhat__w_model2))"
   ]
  },
  {
   "cell_type": "code",
   "execution_count": null,
   "id": "4ce5fd0c-a5a4-4b6a-b8c0-5024300e2205",
   "metadata": {},
   "outputs": [],
   "source": []
  }
 ],
 "metadata": {
  "kernelspec": {
   "display_name": "Python 3 (ipykernel)",
   "language": "python",
   "name": "python3"
  },
  "language_info": {
   "codemirror_mode": {
    "name": "ipython",
    "version": 3
   },
   "file_extension": ".py",
   "mimetype": "text/x-python",
   "name": "python",
   "nbconvert_exporter": "python",
   "pygments_lexer": "ipython3",
   "version": "3.11.3"
  }
 },
 "nbformat": 4,
 "nbformat_minor": 5
}
