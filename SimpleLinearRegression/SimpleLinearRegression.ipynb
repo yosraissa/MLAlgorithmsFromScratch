{
 "cells": [
  {
   "cell_type": "code",
   "execution_count": 1,
   "id": "72dc9588-3109-4344-ab61-68e5a40a738c",
   "metadata": {
    "tags": []
   },
   "outputs": [],
   "source": [
    "import numpy as np\n",
    "import pandas as pd \n",
    "import matplotlib.pyplot as plt"
   ]
  },
  {
   "cell_type": "code",
   "execution_count": 30,
   "id": "43ed030c-9192-4872-a9d0-09158a4326fa",
   "metadata": {
    "tags": []
   },
   "outputs": [],
   "source": [
    "# random functions to ease the work :\n",
    "# calcul y_bar\n",
    "def ybar(y):\n",
    "    return y.mean()\n",
    "\n",
    "# Sum of squared errors (SSE)\n",
    "def sse(y_target,y_prediction):\n",
    "    s = 0\n",
    "    for i in range(len(y_target)): \n",
    "        s = s + ((y_target[i] - y_prediction[i])**2)\n",
    "    return s\n",
    "\n",
    "# Sum of residuals (SSr)\n",
    "def ssr(y_bar,y_prediction):\n",
    "    s = 0\n",
    "    for i in range(len(y_prediction)): \n",
    "        s = s + ((y_prediction[i] - y_bar)**2)\n",
    "    return s\n",
    "\n",
    "# Sum of errors (SST)\n",
    "def sst(y_target,y_bar):\n",
    "    s = 0\n",
    "    for i in range(len(y_target)): \n",
    "        s = s + ((y_target[i] - y_bar)**2)\n",
    "    return s\n",
    "\n",
    "# calcule y pred\n",
    "def predictY(re, x):\n",
    "    return re[0] + re[1] * x\n",
    "\n",
    "# model\n",
    "def SimpleLinearRegression(x, y):\n",
    "    xy = x.dot(y)\n",
    "    xy_bar = ybar(xy)\n",
    "    y_bar = ybar(y)\n",
    "    x_bar = ybar(x)\n",
    "    x_bar_y_bar = x_bar * y_bar\n",
    "    x2 = np.sum(x ** 2)\n",
    "    x_bar_2 = x_bar ** 2\n",
    "    b1 = ((xy_bar - x_bar_y_bar)/(x2 - x_bar_2)).round(4)\n",
    "    b0 = (y_bar - b1 * x_bar).round(4)\n",
    "    return [b0, b1]\n",
    "\n",
    "def calculate_slope_intercept(x, y):\n",
    "    n = len(x)\n",
    "    sum_x = np.sum(x)\n",
    "    sum_y = np.sum(y)\n",
    "    sum_xy = np.sum(x * y)\n",
    "    sum_xx = np.sum(x * x)\n",
    "\n",
    "    a = (n * sum_xy - sum_x * sum_y) / (n * sum_xx - sum_x**2)\n",
    "    b = (sum_y - a * sum_x) / n\n",
    "\n",
    "    return [a, b]\n"
   ]
  },
  {
   "cell_type": "code",
   "execution_count": 3,
   "id": "2418512e-dc2a-41b7-8ffe-40733b9a6ca8",
   "metadata": {
    "tags": []
   },
   "outputs": [
    {
     "data": {
      "text/html": [
       "<div>\n",
       "<style scoped>\n",
       "    .dataframe tbody tr th:only-of-type {\n",
       "        vertical-align: middle;\n",
       "    }\n",
       "\n",
       "    .dataframe tbody tr th {\n",
       "        vertical-align: top;\n",
       "    }\n",
       "\n",
       "    .dataframe thead th {\n",
       "        text-align: right;\n",
       "    }\n",
       "</style>\n",
       "<table border=\"1\" class=\"dataframe\">\n",
       "  <thead>\n",
       "    <tr style=\"text-align: right;\">\n",
       "      <th></th>\n",
       "      <th>TV</th>\n",
       "      <th>Sales</th>\n",
       "    </tr>\n",
       "  </thead>\n",
       "  <tbody>\n",
       "    <tr>\n",
       "      <th>0</th>\n",
       "      <td>230.1</td>\n",
       "      <td>22.1</td>\n",
       "    </tr>\n",
       "    <tr>\n",
       "      <th>1</th>\n",
       "      <td>44.5</td>\n",
       "      <td>10.4</td>\n",
       "    </tr>\n",
       "    <tr>\n",
       "      <th>2</th>\n",
       "      <td>17.2</td>\n",
       "      <td>9.3</td>\n",
       "    </tr>\n",
       "    <tr>\n",
       "      <th>3</th>\n",
       "      <td>151.5</td>\n",
       "      <td>18.5</td>\n",
       "    </tr>\n",
       "    <tr>\n",
       "      <th>4</th>\n",
       "      <td>180.8</td>\n",
       "      <td>12.9</td>\n",
       "    </tr>\n",
       "    <tr>\n",
       "      <th>...</th>\n",
       "      <td>...</td>\n",
       "      <td>...</td>\n",
       "    </tr>\n",
       "    <tr>\n",
       "      <th>195</th>\n",
       "      <td>38.2</td>\n",
       "      <td>7.6</td>\n",
       "    </tr>\n",
       "    <tr>\n",
       "      <th>196</th>\n",
       "      <td>94.2</td>\n",
       "      <td>9.7</td>\n",
       "    </tr>\n",
       "    <tr>\n",
       "      <th>197</th>\n",
       "      <td>177.0</td>\n",
       "      <td>12.8</td>\n",
       "    </tr>\n",
       "    <tr>\n",
       "      <th>198</th>\n",
       "      <td>283.6</td>\n",
       "      <td>25.5</td>\n",
       "    </tr>\n",
       "    <tr>\n",
       "      <th>199</th>\n",
       "      <td>232.1</td>\n",
       "      <td>13.4</td>\n",
       "    </tr>\n",
       "  </tbody>\n",
       "</table>\n",
       "<p>200 rows × 2 columns</p>\n",
       "</div>"
      ],
      "text/plain": [
       "        TV  Sales\n",
       "0    230.1   22.1\n",
       "1     44.5   10.4\n",
       "2     17.2    9.3\n",
       "3    151.5   18.5\n",
       "4    180.8   12.9\n",
       "..     ...    ...\n",
       "195   38.2    7.6\n",
       "196   94.2    9.7\n",
       "197  177.0   12.8\n",
       "198  283.6   25.5\n",
       "199  232.1   13.4\n",
       "\n",
       "[200 rows x 2 columns]"
      ]
     },
     "execution_count": 3,
     "metadata": {},
     "output_type": "execute_result"
    }
   ],
   "source": [
    "# importing data \n",
    "df = pd.read_csv('tvmarketing.csv')\n",
    "df"
   ]
  },
  {
   "cell_type": "code",
   "execution_count": 4,
   "id": "da3cd323-c9cf-4c4b-8591-1ecb17187d64",
   "metadata": {
    "tags": []
   },
   "outputs": [
    {
     "data": {
      "text/plain": [
       "(200, 2)"
      ]
     },
     "execution_count": 4,
     "metadata": {},
     "output_type": "execute_result"
    }
   ],
   "source": [
    "df.shape"
   ]
  },
  {
   "cell_type": "code",
   "execution_count": 5,
   "id": "85307ba4-1daa-4d17-ae7e-ec9e84ffe149",
   "metadata": {
    "tags": []
   },
   "outputs": [
    {
     "data": {
      "text/plain": [
       "<Axes: xlabel='TV', ylabel='Sales'>"
      ]
     },
     "execution_count": 5,
     "metadata": {},
     "output_type": "execute_result"
    },
    {
     "data": {
      "image/png": "[encoded data removed]",
      "text/plain": [
       "<Figure size 640x480 with 1 Axes>"
      ]
     },
     "metadata": {},
     "output_type": "display_data"
    }
   ],
   "source": [
    "# Visualise the relationship between the features and the response using scatterplots\n",
    "df.plot(x='TV',y='Sales',kind='scatter')"
   ]
  },
  {
   "cell_type": "code",
   "execution_count": 6,
   "id": "bbff4648-9d23-4702-a33a-15600a92bcf8",
   "metadata": {
    "tags": []
   },
   "outputs": [
    {
     "name": "stdout",
     "output_type": "stream",
     "text": [
      "x:  [230.1  44.5  17.2 151.5 180.8   8.7  57.5 120.2   8.6 199.8  66.1 214.7\n",
      "  23.8  97.5 204.1 195.4  67.8 281.4  69.2 147.3 218.4 237.4  13.2 228.3\n",
      "  62.3 262.9 142.9 240.1 248.8  70.6 292.9 112.9  97.2 265.6  95.7 290.7\n",
      " 266.9  74.7  43.1 228.  202.5 177.  293.6 206.9  25.1 175.1  89.7 239.9\n",
      " 227.2  66.9 199.8 100.4 216.4 182.6 262.7 198.9   7.3 136.2 210.8 210.7\n",
      "  53.5 261.3 239.3 102.7 131.1  69.   31.5 139.3 237.4 216.8 199.1 109.8\n",
      "  26.8 129.4 213.4  16.9  27.5 120.5   5.4 116.   76.4 239.8  75.3  68.4\n",
      " 213.5 193.2  76.3 110.7  88.3 109.8 134.3  28.6 217.7 250.9 107.4 163.3\n",
      " 197.6 184.9 289.7 135.2 222.4 296.4 280.2 187.9 238.2 137.9  25.   90.4\n",
      "  13.1 255.4 225.8 241.7 175.7 209.6  78.2  75.1 139.2  76.4 125.7  19.4\n",
      " 141.3  18.8 224.  123.1 229.5  87.2   7.8  80.2 220.3  59.6   0.7 265.2\n",
      "   8.4 219.8  36.9  48.3  25.6 273.7  43.  184.9  73.4 193.7 220.5 104.6\n",
      "  96.2 140.3 240.1 243.2  38.   44.7 280.7 121.  197.6 171.3 187.8   4.1\n",
      "  93.9 149.8  11.7 131.7 172.5  85.7 188.4 163.5 117.2 234.5  17.9 206.8\n",
      " 215.4 284.3  50.  164.5  19.6 168.4 222.4 276.9 248.4 170.2 276.7 165.6\n",
      " 156.6 218.5  56.2 287.6 253.8 205.  139.5 191.1 286.   18.7  39.5  75.5\n",
      "  17.2 166.8 149.7  38.2  94.2 177.  283.6 232.1]\n"
     ]
    }
   ],
   "source": [
    "# data separation and preparation x='TV',y='Sales'\n",
    "X = df['TV'].to_numpy()\n",
    "print('x: ',X);"
   ]
  },
  {
   "cell_type": "code",
   "execution_count": 7,
   "id": "2076d617-1138-4de5-a862-633a36861d00",
   "metadata": {
    "tags": []
   },
   "outputs": [
    {
     "name": "stdout",
     "output_type": "stream",
     "text": [
      "y:  [22.1 10.4  9.3 18.5 12.9  7.2 11.8 13.2  4.8 10.6  8.6 17.4  9.2  9.7\n",
      " 19.  22.4 12.5 24.4 11.3 14.6 18.  12.5  5.6 15.5  9.7 12.  15.  15.9\n",
      " 18.9 10.5 21.4 11.9  9.6 17.4  9.5 12.8 25.4 14.7 10.1 21.5 16.6 17.1\n",
      " 20.7 12.9  8.5 14.9 10.6 23.2 14.8  9.7 11.4 10.7 22.6 21.2 20.2 23.7\n",
      "  5.5 13.2 23.8 18.4  8.1 24.2 15.7 14.  18.   9.3  9.5 13.4 18.9 22.3\n",
      " 18.3 12.4  8.8 11.  17.   8.7  6.9 14.2  5.3 11.  11.8 12.3 11.3 13.6\n",
      " 21.7 15.2 12.  16.  12.9 16.7 11.2  7.3 19.4 22.2 11.5 16.9 11.7 15.5\n",
      " 25.4 17.2 11.7 23.8 14.8 14.7 20.7 19.2  7.2  8.7  5.3 19.8 13.4 21.8\n",
      " 14.1 15.9 14.6 12.6 12.2  9.4 15.9  6.6 15.5  7.  11.6 15.2 19.7 10.6\n",
      "  6.6  8.8 24.7  9.7  1.6 12.7  5.7 19.6 10.8 11.6  9.5 20.8  9.6 20.7\n",
      " 10.9 19.2 20.1 10.4 11.4 10.3 13.2 25.4 10.9 10.1 16.1 11.6 16.6 19.\n",
      " 15.6  3.2 15.3 10.1  7.3 12.9 14.4 13.3 14.9 18.  11.9 11.9  8.  12.2\n",
      " 17.1 15.   8.4 14.5  7.6 11.7 11.5 27.  20.2 11.7 11.8 12.6 10.5 12.2\n",
      "  8.7 26.2 17.6 22.6 10.3 17.3 15.9  6.7 10.8  9.9  5.9 19.6 17.3  7.6\n",
      "  9.7 12.8 25.5 13.4]\n"
     ]
    }
   ],
   "source": [
    "Y = df['Sales'].to_numpy()\n",
    "print('y: ',Y);"
   ]
  },
  {
   "cell_type": "code",
   "execution_count": 37,
   "id": "2b452926-9550-4ab3-a5db-525fac1eb977",
   "metadata": {
    "tags": []
   },
   "outputs": [
    {
     "name": "stdout",
     "output_type": "stream",
     "text": [
      "a:  [1.7886, 0.0832]\n"
     ]
    }
   ],
   "source": [
    "# calling the model to learn\n",
    "r = SimpleLinearRegression(X, Y)\n",
    "print('a: ',r)"
   ]
  },
  {
   "cell_type": "code",
   "execution_count": 40,
   "id": "083bb54d-784e-410d-a22d-dc89fa4a845d",
   "metadata": {},
   "outputs": [
    {
     "name": "stdout",
     "output_type": "stream",
     "text": [
      "[20.93292  5.491    3.21964 14.3934  16.83116  2.51244  6.5726  11.78924\n",
      "  2.50412 18.41196  7.28812 19.65164  3.76876  9.9006  18.76972 18.04588\n",
      "  7.42956 25.20108  7.54604 14.04396 19.95948 21.54028  2.88684 20.78316\n",
      "  6.97196 23.66188 13.67788 21.76492 22.48876  7.66252 26.15788 11.18188\n",
      "  9.87564 23.88652  9.75084 25.97484 23.99468  8.00364  5.37452 20.7582\n",
      " 18.6366  16.515   26.21612 19.00268  3.87692 16.35692  9.25164 21.74828\n",
      " 20.69164  7.35468 18.41196 10.14188 19.79308 16.98092 23.64524 18.33708\n",
      "  2.39596 13.12044 19.32716 19.31884  6.2398  23.52876 21.69836 10.33324\n",
      " 12.69612  7.5294   4.4094  13.37836 21.54028 19.82636 18.35372 10.92396\n",
      "  4.01836 12.55468 19.54348  3.19468  4.0766  11.8142   2.23788 11.4398\n",
      "  8.14508 21.73996  8.05356  7.47948 19.5518  17.86284  8.13676 10.99884\n",
      "  9.13516 10.92396 12.96236  4.16812 19.90124 22.66348 10.72428 15.37516\n",
      " 18.22892 17.17228 25.89164 13.03724 20.29228 26.44908 25.10124 17.42188\n",
      " 21.60684 13.26188  3.8686   9.30988  2.87852 23.03788 20.57516 21.89804\n",
      " 16.40684 19.22732  8.29484  8.03692 13.37004  8.14508 12.24684  3.40268\n",
      " 13.54476  3.35276 20.4254  12.03052 20.883    9.04364  2.43756  8.46124\n",
      " 20.11756  6.74732  1.84684 23.85324  2.48748 20.07596  4.85868  5.80716\n",
      "  3.91852 24.56044  5.3662  17.17228  7.89548 17.90444 20.1342  10.49132\n",
      "  9.79244 13.46156 21.76492 22.02284  4.9502   5.50764 25.14284 11.8558\n",
      " 18.22892 16.04076 17.41356  2.12972  9.60108 14.25196  2.76204 12.74604\n",
      " 16.1406   8.91884 17.46348 15.3918  11.53964 21.299    3.27788 18.99436\n",
      " 19.70988 25.44236  5.9486  15.475    3.41932 15.79948 20.29228 24.82668\n",
      " 22.45548 15.94924 24.81004 15.56652 14.81772 19.9678   6.46444 25.71692\n",
      " 22.90476 18.8446  13.395   17.68812 25.5838   3.34444  5.075    8.0702\n",
      "  3.21964 15.66636 14.24364  4.96684  9.62604 16.515   25.38412 21.09932]\n"
     ]
    }
   ],
   "source": [
    "# calculation of y_predict\n",
    "yhat = predictY(r,X)\n",
    "print(yhat)"
   ]
  },
  {
   "cell_type": "code",
   "execution_count": 41,
   "id": "780b1326-7e7b-4dc4-aa8f-c3f6736d8570",
   "metadata": {
    "tags": []
   },
   "outputs": [
    {
     "name": "stdout",
     "output_type": "stream",
     "text": [
      "sse:  3968.14\n"
     ]
    }
   ],
   "source": [
    "# calculating SSE error :\n",
    "print('sse: ',sse(Y,yhat).round(2))"
   ]
  },
  {
   "cell_type": "code",
   "execution_count": null,
   "id": "4ce5fd0c-a5a4-4b6a-b8c0-5024300e2205",
   "metadata": {},
   "outputs": [],
   "source": []
  }
 ],
 "metadata": {
  "kernelspec": {
   "display_name": "Python 3 (ipykernel)",
   "language": "python",
   "name": "python3"
  },
  "language_info": {
   "codemirror_mode": {
    "name": "ipython",
    "version": 3
   },
   "file_extension": ".py",
   "mimetype": "text/x-python",
   "name": "python",
   "nbconvert_exporter": "python",
   "pygments_lexer": "ipython3",
   "version": "3.11.3"
  }
 },
 "nbformat": 4,
 "nbformat_minor": 5
}
